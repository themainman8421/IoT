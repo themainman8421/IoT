{
 "cells": [
  {
   "cell_type": "markdown",
   "metadata": {},
   "source": [
    "## FIoT Lab02 PartB"
   ]
  },
  {
   "cell_type": "markdown",
   "metadata": {},
   "source": [
    "# Writing Simple Python Scripts\n",
    "\n",
    "\n",
    "\n",
    "### Objectives\n",
    " * Use CrowPi IoT kit to access the Raspberry Pi\n",
    " * Create a new Python application\n",
    " * Create a simple game using Python\n",
    "\n",
    "### Note: This lab is based on NetAcad IoT Connecting Things 3.2.5.9 Lab Writing Simple Python Scripts\n",
    "\n",
    "### Background \n",
    "Python is one of the most commonly used languages for developing new rapid prototyping solutions. It can be used to create web applications, desktop applications, and more. Python is also extensively used in Data Science to analyze Big Data.\n",
    "\n",
    "Python is an interpreted computer language, and does not require compiling. It is platform independent and can run on Linux, Windows, OsX, and other systems. Python programs can be written using any text editor and should have the extension .py.\n",
    "\n",
    "This lab provides a basic introduction to programming Python\n",
    "\n",
    "### Required Resources \n",
    " * Computer configured with Jupyter notebooks"
   ]
  },
  {
   "cell_type": "markdown",
   "metadata": {},
   "source": [
    "## Part 1: Writing simple Python scripts in a notebook\n",
    "### Step 1: Code cell\n",
    " 1. Enter the following sample code into the cell below. This code assigns numerical values to the variables x and y, and then compares the two numbers.\n",
    "\n",
    "*Note: Pay special attention when indenting. In Python, the specific blocks of code are identified by indentation. In this example, the “print” functions are called from within the “if” statements.*\n",
    "\n",
    "```python\n",
    "x = 1\n",
    "y = 2\n",
    "if (x > y):\n",
    "  print (\"x is bigger than y\")\n",
    "else:\n",
    "  print (\"y is bigger than x\")\n",
    "```"
   ]
  },
  {
   "cell_type": "code",
   "execution_count": null,
   "metadata": {},
   "outputs": [],
   "source": [
    "# Write your code here...\n",
    "\n"
   ]
  },
  {
   "cell_type": "markdown",
   "metadata": {},
   "source": [
    "### Step 2: Execute the code in the cell\n",
    " 1.\tIn the code cell, click on the **Run** button at the top of the page. The Python code will be executed and the output displayed here in the notebook.\n",
    "![Play button](images/playButton.png)"
   ]
  },
  {
   "cell_type": "markdown",
   "metadata": {},
   "source": [
    "### Step 3: Create a Simple Game using Python\n",
    " 1. In this step, your task is to create a Python Application called Guess the number.\n",
    " 2. Enter the following lines of code in the code cell below. Pay special attention to indentation. The block after the “while” function is indented to identify the lines which are part of this loop cycle. The “print” functions inside of the “if” statements are also indented, thus identifying blocks of code executed once the statement in the “if” is true.\n",
    "```python\n",
    "import random, math\n",
    "random.seed()\n",
    "x = math.floor(random.random()*1000)+1\n",
    "z = 0\n",
    "b = 0\n",
    "while x != z:\n",
    "     b=b+1\n",
    "     z = int(input(\"Guess My Number Between 1 and 1000: \"))\n",
    "     if z < x:\n",
    "          print(\"Higher!\")\n",
    "     if z > x:\n",
    "          print(\"Lower!\")\n",
    "print(\"Correct! \" + str(b) + \" tries.\")\n",
    "```\n",
    " 3. In the code cell, click on the Run button at the top the page. The Python code will be executed and the input and output displayed here in the notebook.\n",
    " 4. To stop the code, click the **Stop** button to stop the program."
   ]
  },
  {
   "cell_type": "code",
   "execution_count": 1,
   "metadata": {},
   "outputs": [
    {
     "name": "stdout",
     "output_type": "stream",
     "text": [
      "Guess My Number Between 1 and 1000: 300\n",
      "Lower!\n",
      "Guess My Number Between 1 and 1000: 200\n",
      "Higher!\n",
      "Guess My Number Between 1 and 1000: 250\n",
      "Higher!\n",
      "Guess My Number Between 1 and 1000: 270\n",
      "Higher!\n",
      "Guess My Number Between 1 and 1000: 280\n",
      "Higher!\n",
      "Guess My Number Between 1 and 1000: 290\n",
      "Lower!\n",
      "Guess My Number Between 1 and 1000: 289\n",
      "Lower!\n",
      "Guess My Number Between 1 and 1000: 288\n",
      "Lower!\n",
      "Guess My Number Between 1 and 1000: 287\n",
      "Lower!\n",
      "Guess My Number Between 1 and 1000: 286\n",
      "Lower!\n",
      "Guess My Number Between 1 and 1000: 285\n",
      "Correct! 11 tries.\n"
     ]
    }
   ],
   "source": [
    "import random, math\n",
    "random.seed()\n",
    "x = math.floor(random.random()*1000)+1\n",
    "z = 0\n",
    "b = 0\n",
    "while x != z:\n",
    " b=b+1\n",
    " z = int(input(\"Guess My Number Between 1 and 1000: \"))\n",
    " if z < x:\n",
    "      print(\"Higher!\")\n",
    " if z > x:\n",
    "      print(\"Lower!\")\n",
    "print(\"Correct! \" + str(b) + \" tries.\")# Write your code here...\n"
   ]
  },
  {
   "cell_type": "markdown",
   "metadata": {},
   "source": [
    "## Reflection\n",
    " 1. What is the maximum number of guesses required to win “Guess the Number” if you started at one, counting up? What is the maximum number of guesses required if you started at 500 and divided the range of possible answers by half using each guess?  \n",
    "\n",
    " 2. Try to implement a cheat code – a magic number that if entered, it reveals the secret number, while continuing to run the application. Since the secret number will be revealed, you now have a good chance to win the game!  "
   ]
  },
  {
   "cell_type": "markdown",
   "metadata": {
    "collapsed": true
   },
   "source": [
    "###### TU856.7.8 Year 4"
   ]
  }
 ],
 "metadata": {
  "anaconda-cloud": {},
  "kernelspec": {
   "display_name": "Python 3",
   "language": "python",
   "name": "python3"
  },
  "language_info": {
   "codemirror_mode": {
    "name": "ipython",
    "version": 3
   },
   "file_extension": ".py",
   "mimetype": "text/x-python",
   "name": "python",
   "nbconvert_exporter": "python",
   "pygments_lexer": "ipython3",
   "version": "3.8.5"
  }
 },
 "nbformat": 4,
 "nbformat_minor": 1
}
